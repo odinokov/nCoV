{
 "cells": [
  {
   "cell_type": "code",
   "execution_count": 16,
   "metadata": {
    "ExecuteTime": {
     "end_time": "2020-02-08T05:44:04.783980Z",
     "start_time": "2020-02-08T05:44:03.479775Z"
    }
   },
   "outputs": [
    {
     "data": {
      "image/png": "[encoded data removed]",
      "text/plain": [
       "<Figure size 432x288 with 1 Axes>"
      ]
     },
     "metadata": {
      "needs_background": "light"
     },
     "output_type": "display_data"
    },
    {
     "name": "stdout",
     "output_type": "stream",
     "text": [
      "People = 333.720 * e^(0.158 * Day) + -1352\n"
     ]
    }
   ],
   "source": [
    "# get some info about nCoV\n",
    "\n",
    "import pandas as pd\n",
    "\n",
    "URL = 'https://en.wikipedia.org/wiki/Timeline_of_the_2019%E2%80%9320_Wuhan_coronavirus_outbreak'\n",
    "\n",
    "df = pd.read_html(URL)[2].iloc[:-1].fillna(method='bfill')\n",
    "\n",
    "df.columns = df.columns.droplevel(level=0)\n",
    "\n",
    "convert_dict = {'Date(CST)': 'datetime64[ns]',\n",
    "                'Confirmed(cumulative)': int,\n",
    "                'Deaths(cumulative)': int,\n",
    "                'Recovered(cumulative)': int,\n",
    "                }\n",
    "\n",
    "df = df[convert_dict.keys()].astype(convert_dict)\n",
    "\n",
    "# model\n",
    "\n",
    "from scipy.optimize import curve_fit\n",
    "\n",
    "figure(num=None, figsize=(8, 6), dpi=80, facecolor='w', edgecolor='k')\n",
    "\n",
    "x = df.index.values  # df['Date(CST)'].astype(np.int64).values\n",
    "y = df['Confirmed(cumulative)'].values\n",
    "\n",
    "popt, pcov = curve_fit(lambda t, a, b, c: a*np.exp(b*t)+c,  x,  y)\n",
    "\n",
    "def func(x, a, b, c):\n",
    "    return a*np.exp(b*x)+c\n",
    "\n",
    "# plot\n",
    "\n",
    "import matplotlib.pyplot as plt\n",
    "from matplotlib.pyplot import figure\n",
    "\n",
    "%matplotlib inline\n",
    "\n",
    "plt.figure()\n",
    "plt.plot(x, y, 'ko', label=\"Original Data\")\n",
    "plt.plot(x, func(x, *popt), 'r-', label=\"Fitted Curve\")\n",
    "plt.xlabel('Days')\n",
    "plt.ylabel('Infected People')\n",
    "plt.title('nCoV model:')\n",
    "plt.legend()\n",
    "plt.show()\n",
    "\n",
    "print('People = {:.3f} * e^({:.3f} * Day) + {:.0f}'.format(*popt))"
   ]
  },
  {
   "cell_type": "code",
   "execution_count": null,
   "metadata": {},
   "outputs": [],
   "source": []
  }
 ],
 "metadata": {
  "kernelspec": {
   "display_name": "Python 3.7.5 64-bit ('ML': conda)",
   "language": "python",
   "name": "python37564bitmlcondafa53d78c22434f5c89d125cf9117d01b"
  },
  "language_info": {
   "codemirror_mode": {
    "name": "ipython",
    "version": 3
   },
   "file_extension": ".py",
   "mimetype": "text/x-python",
   "name": "python",
   "nbconvert_exporter": "python",
   "pygments_lexer": "ipython3",
   "version": "3.7.6"
  },
  "latex_envs": {
   "LaTeX_envs_menu_present": true,
   "autoclose": false,
   "autocomplete": true,
   "bibliofile": "biblio.bib",
   "cite_by": "apalike",
   "current_citInitial": 1,
   "eqLabelWithNumbers": true,
   "eqNumInitial": 1,
   "hotkeys": {
    "equation": "Ctrl-E",
    "itemize": "Ctrl-I"
   },
   "labels_anchors": false,
   "latex_user_defs": false,
   "report_style_numbering": false,
   "user_envs_cfg": false
  },
  "toc": {
   "base_numbering": 1,
   "nav_menu": {},
   "number_sections": true,
   "sideBar": true,
   "skip_h1_title": false,
   "title_cell": "Table of Contents",
   "title_sidebar": "Contents",
   "toc_cell": false,
   "toc_position": {},
   "toc_section_display": true,
   "toc_window_display": false
  },
  "varInspector": {
   "cols": {
    "lenName": 16,
    "lenType": 16,
    "lenVar": 40
   },
   "kernels_config": {
    "python": {
     "delete_cmd_postfix": "",
     "delete_cmd_prefix": "del ",
     "library": "var_list.py",
     "varRefreshCmd": "print(var_dic_list())"
    },
    "r": {
     "delete_cmd_postfix": ") ",
     "delete_cmd_prefix": "rm(",
     "library": "var_list.r",
     "varRefreshCmd": "cat(var_dic_list()) "
    }
   },
   "types_to_exclude": [
    "module",
    "function",
    "builtin_function_or_method",
    "instance",
    "_Feature"
   ],
   "window_display": false
  }
 },
 "nbformat": 4,
 "nbformat_minor": 4
}
